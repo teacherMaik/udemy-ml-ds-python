{
 "cells": [
  {
   "cell_type": "code",
   "execution_count": 31,
   "metadata": {},
   "outputs": [
    {
     "data": {
      "text/plain": [
       "'c:\\\\Users\\\\mikelele\\\\Desktop\\\\Projects\\\\udemy-ml-ds-python\\\\venv\\\\Scripts\\\\python.exe'"
      ]
     },
     "execution_count": 31,
     "metadata": {},
     "output_type": "execute_result"
    }
   ],
   "source": [
    "import math\n",
    "import numpy as np\n",
    "from scipy import stats\n",
    "import matplotlib.pyplot as plt\n",
    "import sys\n",
    "sys.executable\n"
   ]
  },
  {
   "cell_type": "code",
   "execution_count": 40,
   "metadata": {},
   "outputs": [
    {
     "data": {
      "image/png": "[encoded data removed]",
      "text/plain": [
       "<Figure size 640x480 with 1 Axes>"
      ]
     },
     "metadata": {},
     "output_type": "display_data"
    },
    {
     "name": "stdout",
     "output_type": "stream",
     "text": [
      "the mean of incomes is 899.9433715843929\n",
      "The median of incomes is 899.9661225193014\n",
      "the mean of incomes is 41996700.27334425\n",
      "The median of incomes is 899.9665904408861\n"
     ]
    }
   ],
   "source": [
    "\n",
    "incomes = np.random.normal(900.0, 10.0, 10000)\n",
    "\n",
    "plt.hist(incomes, 50)\n",
    "plt.show()\n",
    "\n",
    "print(f\"the mean of incomes is {np.mean(incomes)}\")\n",
    "print(f\"The median of incomes is {np.median(incomes)}\")\n",
    "\n",
    "incomes_olig = np.append(incomes, 420000000000)\n",
    "\n",
    "print(f\"the mean of incomes is {np.mean(incomes_olig)}\")\n",
    "print(f\"The median of incomes is {np.median(incomes_olig)}\")\n",
    "\n"
   ]
  },
  {
   "cell_type": "code",
   "execution_count": 33,
   "metadata": {},
   "outputs": [
    {
     "name": "stdout",
     "output_type": "stream",
     "text": [
      "[30 34 38 19 29 35 25 37 24 28 40 38 29 30 30 18 30 33 32 32 35 32 33 21\n",
      " 35 19 32 23 21 23 34 25 34 28 40 27 36 25 32 29 19 26 29 33 31 32 20 24\n",
      " 33 31 26 27 28 18 32 25 25 39 32 39 39 39 39 26 25 38 35 30 34 33 28 25\n",
      " 29 21 30 23 28 24 33 21 37 37 34 29 26 34 30 29 37 32 38 26 23 28 37 40\n",
      " 21 25 28 35 21 34 23 21 20 34 22 22 38 35 38 33 30 36 30 22 19 21 30 18\n",
      " 27 32 20 32 33 40 26 39 23 28 19 23 28 21 25 22 37 20 33 34 41 41 37 25\n",
      " 40 36 39 23 23 40 19 22 41 36 40 22 32 30 29 25 30 41 32 36 32 27 25 30\n",
      " 31 35 21 32 32 34 35 18 22 23 24 37 28 22 29 35 30 41 18 27 28 41 39 20\n",
      " 30 38 19 23 29 35 37 29 36 41 36 23 33 26 23 22 20 36 40 22 38 20 31 37\n",
      " 20 30 35 33 19 27 29 24 37 32 36 23 18 33 20 30 23 21 21 28 21 22 19 25\n",
      " 18 27 29 29 35 37 29 40 22 29 37 32 22 41 32 23 36 20 19 23 33 28 24 36\n",
      " 29 18 31 37 33 28 27 25 26 21 37 39 41 27 29 37 21 31 22 35 26 40 22 22\n",
      " 22 35 41 39 23 27 30 40 29 18 25 29 38 18 37 38 23 21 23 30 20 24 38 39\n",
      " 38 31 30 31 22 18 40 22 25 20 35 19 21 18 38 26 32 24 40 23 22 37 37 25\n",
      " 33 19 33 39 29 32 36 31 19 26 36 18 30 39 26 22 34 24 30 31 41 27 25 22\n",
      " 40 36 33 27 22 36 21 40 36 30 35 28 24 23 37 34 36 20 32 34 19 21 40 39\n",
      " 18 25 32 28 27 34 40 18 32 19 25 23 23 33 21 36 31 20 33 30 41 28 37 33\n",
      " 24 21 28 27 41 21 31 21 27 36 20 36 23 21 31 18 41 40 33 40 29 31 36 29\n",
      " 18 23 23 25 23 29 33 34 21 27 25 20 27 29 35 26 39 38 20 38 37 32 20 32\n",
      " 30 22 21 20 41 37 22 39 19 33 35 20 20 40 22 40 30 34 18 20 18 19 27 25\n",
      " 41 25 29 40 21 27 39 32 41 29 41 24 38 22 32 18 28 37 18 22]\n",
      "The mean of these ages is 29.196\n",
      "The median of these ages is 29.0\n",
      "The mode (most common age of this data set is 22)\n"
     ]
    }
   ],
   "source": [
    "ages = np.random.randint(18, high=42, size=500)\n",
    "\n",
    "print(ages)\n",
    "\n",
    "print(f\"The mean of these ages is {np.mean(ages)}\")\n",
    "print(f\"The median of these ages is {np.median(ages)}\")\n",
    "print(f\"The mode (most common age of this data set is {stats.mode(ages)[0]})\")"
   ]
  },
  {
   "cell_type": "code",
   "execution_count": 34,
   "metadata": {},
   "outputs": [
    {
     "name": "stdout",
     "output_type": "stream",
     "text": [
      "4.4\n",
      "1 - 4.4\n",
      "4 - 4.4\n",
      "5 - 4.4\n",
      "4 - 4.4\n",
      "8 - 4.4\n",
      "5.04\n",
      "5.04\n",
      "2.244994432064365\n",
      "2.244994432064365\n"
     ]
    }
   ],
   "source": [
    "# VAriance (sigma squared) is th AVERAGE THE SQUARED DIFERENCES FROM THE MEAN\n",
    "# With loops\n",
    "nums = [1, 4, 5, 4, 8]\n",
    "np_nums = np.array([1, 4, 5, 4, 8])\n",
    "mean = 0\n",
    "acu_sum = 0\n",
    "\n",
    "for num in nums:\n",
    "    acu_sum += num\n",
    "\n",
    "mean = round(acu_sum / len(nums), 2)\n",
    "\n",
    "print(mean)\n",
    "\n",
    "acum_dist_mean_sqrd = 0\n",
    "for num in nums:\n",
    "    print(f\"{num} - {mean}\")\n",
    "    acum_dist_mean_sqrd += (num - mean) ** 2\n",
    "\n",
    "\n",
    "var = acum_dist_mean_sqrd / len(nums)\n",
    "std = np.sqrt(var)\n",
    "print(var)\n",
    "print(np.var(np_nums))\n",
    "\n",
    "print(std)\n",
    "print(np.std(np_nums))\n",
    "\n",
    "\n"
   ]
  },
  {
   "cell_type": "code",
   "execution_count": 35,
   "metadata": {},
   "outputs": [
    {
     "name": "stdout",
     "output_type": "stream",
     "text": [
      "99.63132559683469 41995900.04132146\n",
      "390.10719013911876 1.7636472520762094e+19\n",
      "19.751131363522415 4199580040.999587\n"
     ]
    }
   ],
   "source": [
    "# With Numpy\n",
    "mean_incomes = np.mean(incomes)\n",
    "mean_incomes_olig = np.mean(incomes_olig)\n",
    "print(mean_incomes, mean_incomes_olig)\n",
    "\n",
    "var_incomes = np.var(incomes)\n",
    "var_incommes_olig = np.var(incomes_olig)\n",
    "print(var_incomes, var_incommes_olig)\n",
    "\n",
    "std_incomes = np.std(incomes)\n",
    "std_incomes_olig = np.std(incomes_olig)\n",
    "print(std_incomes, std_incomes_olig)"
   ]
  },
  {
   "cell_type": "code",
   "execution_count": null,
   "metadata": {},
   "outputs": [],
   "source": []
  }
 ],
 "metadata": {
  "kernelspec": {
   "display_name": "venv",
   "language": "python",
   "name": "python3"
  },
  "language_info": {
   "codemirror_mode": {
    "name": "ipython",
    "version": 3
   },
   "file_extension": ".py",
   "mimetype": "text/x-python",
   "name": "python",
   "nbconvert_exporter": "python",
   "pygments_lexer": "ipython3",
   "version": "3.13.1"
  }
 },
 "nbformat": 4,
 "nbformat_minor": 2
}
